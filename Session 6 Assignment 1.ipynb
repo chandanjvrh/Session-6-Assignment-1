{
 "cells": [
  {
   "cell_type": "markdown",
   "metadata": {},
   "source": [
    "1. Problem Statement\n",
    "Problem Statement 1:\n",
    "Write a function so that the columns of the output matrix are powers of the input\n",
    "vector.\n",
    "The order of the powers is determined by the increasing boolean argument. Specifically,\n",
    "when increasing is False, the i-th output column is the input vector raised element-wise\n",
    "to the power of N - i - 1.\n",
    "HINT: Such a matrix with a geometric progression in each row is named for AlexandreTheophile Vandermonde.\n"
   ]
  },
  {
   "cell_type": "code",
   "execution_count": 5,
   "metadata": {},
   "outputs": [
    {
     "name": "stdout",
     "output_type": "stream",
     "text": [
      "Enter the array element or STOP to exit :1\n",
      "Enter the array element or STOP to exit :2\n",
      "Enter the array element or STOP to exit :3\n",
      "Enter the array element or STOP to exit :STOP\n",
      "Enter the dimension : 3\n",
      "The Resultant Matrix is : \n",
      "[[1 1 1]\n",
      " [4 2 1]\n",
      " [9 3 1]]\n"
     ]
    }
   ],
   "source": [
    "#Import numpy\n",
    "import numpy as np\n",
    "\n",
    "#define function\n",
    "def vandermatrix(inp_array,in_dim):\n",
    "    return np.vander(inp_array,in_dim)\n",
    "#define array\n",
    "ar=[]\n",
    "#array input from user\n",
    "while(True):\n",
    "    elme = input(\"Enter the array element or STOP to exit :\")\n",
    "    if(elme == 'STOP'):\n",
    "        break\n",
    "    else:\n",
    "        ar.append(int(elme))\n",
    "#Take Matrix dimension from user\n",
    "dim =int(input(\"Enter the dimension : \"))        \n",
    "result=vandermatrix(ar,dim)\n",
    "# Print result\n",
    "print(\"The Resultant Matrix is : \")\n",
    "print(result)"
   ]
  }
 ],
 "metadata": {
  "kernelspec": {
   "display_name": "Python 3",
   "language": "python",
   "name": "python3"
  },
  "language_info": {
   "codemirror_mode": {
    "name": "ipython",
    "version": 3
   },
   "file_extension": ".py",
   "mimetype": "text/x-python",
   "name": "python",
   "nbconvert_exporter": "python",
   "pygments_lexer": "ipython3",
   "version": "3.7.0"
  }
 },
 "nbformat": 4,
 "nbformat_minor": 2
}
